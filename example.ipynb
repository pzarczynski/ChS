{
 "cells": [
  {
   "cell_type": "code",
<<<<<<< HEAD
   "execution_count": null,
=======
   "execution_count": 3,
>>>>>>> 3014f5f (Update code)
   "id": "2fe773a4-447e-401f-999a-a07909ed7e71",
   "metadata": {
    "scrolled": true
   },
   "outputs": [],
   "source": [
    "import numpy as np\n",
<<<<<<< HEAD
    "rng = np.random.default_rng(42)\n",
    "\n",
=======
    "\n",
    "rng = np.random.default_rng(42)\n",
    "\n",
>>>>>>> 3014f5f (Update code)
    "%load_ext pyinstrument"
   ]
  },
  {
   "cell_type": "code",
<<<<<<< HEAD
   "execution_count": null,
   "id": "8f05332c-e33e-46bf-8164-910cec3e5b8e",
   "metadata": {},
   "outputs": [],
   "source": [
    "from pce import phicoef, randb_csc\n",
    "import matplotlib.pyplot as plt\n",
    "\n",
    "arr = randb_csc(0.001, rng, 10000, 10000)\n",
    "c = phicoef(arr, status = True)"
=======
   "execution_count": 4,
   "id": "03ca44f1-1843-44fc-8ee5-2e7305caba0d",
   "metadata": {},
   "outputs": [
    {
     "ename": "NameError",
     "evalue": "name 'vecstream' is not defined",
     "output_type": "error",
     "traceback": [
      "\u001b[1;31m---------------------------------------------------------------------------\u001b[0m",
      "\u001b[1;31mNameError\u001b[0m                                 Traceback (most recent call last)",
      "Cell \u001b[1;32mIn[4], line 11\u001b[0m\n\u001b[0;32m      8\u001b[0m \u001b[38;5;28;01mwith\u001b[39;00m gzip\u001b[38;5;241m.\u001b[39mopen(\u001b[38;5;124m\"\u001b[39m\u001b[38;5;124m./archive.gz\u001b[39m\u001b[38;5;124m\"\u001b[39m, \u001b[38;5;124m\"\u001b[39m\u001b[38;5;124mwt\u001b[39m\u001b[38;5;124m\"\u001b[39m, newline\u001b[38;5;241m=\u001b[39m\u001b[38;5;124m\"\u001b[39m\u001b[38;5;124m\"\u001b[39m) \u001b[38;5;28;01mas\u001b[39;00m g:\n\u001b[0;32m      9\u001b[0m     writer \u001b[38;5;241m=\u001b[39m csv\u001b[38;5;241m.\u001b[39mwriter(g)\n\u001b[1;32m---> 11\u001b[0m     \u001b[38;5;28;01mfor\u001b[39;00m vec \u001b[38;5;129;01min\u001b[39;00m tqdm(\u001b[43mvecstream\u001b[49m(PGN, sparse\u001b[38;5;241m=\u001b[39m\u001b[38;5;28;01mTrue\u001b[39;00m)):\n\u001b[0;32m     12\u001b[0m         writer\u001b[38;5;241m.\u001b[39mwriterow(\u001b[38;5;28mlist\u001b[39m(vec))\n",
      "\u001b[1;31mNameError\u001b[0m: name 'vecstream' is not defined"
     ]
    }
   ],
   "source": [
    "from chess2vec import pos_stream\n",
    "from tqdm import tqdm\n",
    "import csv\n",
    "import gzip\n",
    "\n",
    "PGN = \"data/raw/lichess_elite_2024-04.pgn\"\n",
    "\n",
    "with gzip.open(\"./archive.gz\", \"wt\", newline=\"\") as g:\n",
    "    writer = csv.writer(g)\n",
    "\n",
    "    for vec in tqdm(vecstream(PGN, sparse=True)):\n",
    "        writer.writerow(list(vec))"
   ]
  },
  {
   "cell_type": "code",
   "execution_count": 6,
   "id": "0cb0ed42",
   "metadata": {},
   "outputs": [],
   "source": [
    "from chess2vec import pos_stream, pos_tosparse\n",
    "from itertools import islice\n",
    "\n",
    "PGN = \"data/raw/lichess_elite_2024-04.pgn\"\n",
    "\n",
    "gen = map(list, map(pos_tosparse, pos_stream(PGN)))\n",
    "arr = list(islice(gen, 1000))"
   ]
  },
  {
   "cell_type": "code",
   "execution_count": 1,
   "id": "958b50d0",
   "metadata": {},
   "outputs": [
    {
     "name": "stdout",
     "output_type": "stream",
     "text": [
      "(2, 5)\n"
     ]
    },
    {
     "data": {
      "text/plain": [
       "array([[ 0.,  0.,  0.,  0.,  0.],\n",
       "       [ 0., -1.,  1., -1.,  1.],\n",
       "       [ 0.,  1.,  0.,  0.,  0.],\n",
       "       [ 0., -1.,  0.,  1., -1.],\n",
       "       [ 0.,  1.,  0., -1., -1.]], dtype=float32)"
      ]
     },
     "execution_count": 1,
     "metadata": {},
     "output_type": "execute_result"
    }
   ],
   "source": [
    "from pce import indices_tocsc, phicoef\n",
    "\n",
    "mat = indices_tocsc([[0, 2, 3], [0, 1, 2, 4]])\n",
    "phicoef(mat)"
>>>>>>> 3014f5f (Update code)
   ]
  },
  {
   "cell_type": "code",
   "execution_count": null,
   "id": "47aa8b18-9aa9-4072-9089-af49b3179ecc",
   "metadata": {},
   "outputs": [],
   "source": [
    "from pce import eigvec\n",
    "P = eigvec(c, k = 64)\n",
    "A = c @ P\n",
    "plt.imshow(A)"
   ]
  },
  {
   "cell_type": "code",
   "execution_count": null,
   "id": "6385d6b2-cfaf-4ac8-b10b-c2027fd9751d",
   "metadata": {},
   "outputs": [],
   "source": []
  }
 ],
 "metadata": {
  "kernelspec": {
   "display_name": "Python 3 (Spyder)",
   "language": "python3",
   "name": "python3"
  },
  "language_info": {
   "codemirror_mode": {
    "name": "ipython",
    "version": 3
   },
   "file_extension": ".py",
   "mimetype": "text/x-python",
   "name": "python",
   "nbconvert_exporter": "python",
   "pygments_lexer": "ipython3",
   "version": "3.11.9"
  }
 },
 "nbformat": 4,
 "nbformat_minor": 5
}
