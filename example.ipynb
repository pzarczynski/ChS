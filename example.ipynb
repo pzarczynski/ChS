{
 "cells": [
  {
   "cell_type": "code",
   "execution_count": null,
   "id": "2fe773a4-447e-401f-999a-a07909ed7e71",
   "metadata": {
    "scrolled": true
   },
   "outputs": [],
   "source": [
    "import numpy as np\n",
    "\n",
    "rng = np.random.default_rng(42)\n",
    "\n",
    "%load_ext pyinstrument"
   ]
  },
  {
   "cell_type": "code",
   "execution_count": null,
   "id": "958b50d0",
   "metadata": {},
   "outputs": [],
   "source": [
    "from pce import indices_tocsc, jaccard, randbool_csc\n",
    "\n",
    "mat = indices_tocsc([[0, 2, 3], [0, 1, 2, 4]])\n",
    "jaccard(mat)"
   ]
  },
  {
   "cell_type": "code",
   "execution_count": null,
   "id": "b5570302",
   "metadata": {},
   "outputs": [],
   "source": [
    "mat = randbool_csc(rng, 100_000, 768, 0.03)\n",
    "jaccard(mat, status=True)"
   ]
  }
 ],
 "metadata": {
  "kernelspec": {
   "display_name": "Python 3 (Spyder)",
   "language": "python3",
   "name": "python3"
  },
  "language_info": {
   "codemirror_mode": {
    "name": "ipython",
    "version": 3
   },
   "file_extension": ".py",
   "mimetype": "text/x-python",
   "name": "python",
   "nbconvert_exporter": "python",
   "pygments_lexer": "ipython3",
   "version": "3.11.9"
  }
 },
 "nbformat": 4,
 "nbformat_minor": 5
}
