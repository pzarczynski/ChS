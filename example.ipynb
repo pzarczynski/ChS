{
 "cells": [
  {
   "cell_type": "code",
   "execution_count": 3,
   "id": "2fe773a4-447e-401f-999a-a07909ed7e71",
   "metadata": {
    "scrolled": true
   },
   "outputs": [],
   "source": [
    "import numpy as np\n",
    "\n",
    "rng = np.random.default_rng(42)\n",
    "\n",
    "%load_ext pyinstrument"
   ]
  },
  {
   "cell_type": "code",
   "execution_count": 6,
   "id": "0cb0ed42",
   "metadata": {},
   "outputs": [],
   "source": [
    "from chess2vec import pos_stream, pos_tosparse\n",
    "from itertools import islice\n",
    "\n",
    "PGN = \"data/raw/lichess_elite_2024-04.pgn\"\n",
    "\n",
    "gen = map(list, map(pos_tosparse, pos_stream(PGN)))\n",
    "arr = list(islice(gen, 1000))"
   ]
  },
  {
   "cell_type": "code",
   "execution_count": 1,
   "id": "958b50d0",
   "metadata": {},
   "outputs": [
    {
     "data": {
      "text/plain": [
       "array([[ 0.,  0.,  0.,  0.,  0.],\n",
       "       [ 0., -1.,  1., -1.,  1.],\n",
       "       [ 0.,  1.,  0.,  0.,  0.],\n",
       "       [ 0., -1.,  0.,  1., -1.],\n",
       "       [ 0.,  1.,  0., -1., -1.]], dtype=float32)"
      ]
     },
     "execution_count": 1,
     "metadata": {},
     "output_type": "execute_result"
    }
   ],
   "source": [
    "from pce import indices_tocsc, phicoef\n",
    "\n",
    "mat = indices_tocsc([[0, 2, 3], [0, 1, 2, 4]])\n",
    "phicoef(mat)"
   ]
  }
 ],
 "metadata": {
  "kernelspec": {
   "display_name": "Python 3 (Spyder)",
   "language": "python3",
   "name": "python3"
  },
  "language_info": {
   "codemirror_mode": {
    "name": "ipython",
    "version": 3
   },
   "file_extension": ".py",
   "mimetype": "text/x-python",
   "name": "python",
   "nbconvert_exporter": "python",
   "pygments_lexer": "ipython3",
   "version": "3.11.9"
  }
 },
 "nbformat": 4,
 "nbformat_minor": 5
}
