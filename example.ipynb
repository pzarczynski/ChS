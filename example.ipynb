{
 "cells": [
  {
   "cell_type": "code",
   "execution_count": 1,
   "id": "a904cf9e",
   "metadata": {},
   "outputs": [],
   "source": [
    "import numpy as np\n",
    "\n",
    "rng = np.random.default_rng(42)\n",
    "\n",
    "from chess2vec import load_prepared\n",
    "import gzip\n",
    "\n",
    "with gzip.open(\"data/bin/lichess_elite_2024-04_indices\", \"rt\") as f:\n",
    "    mat = load_prepared(f, count=1_000_000)"
   ]
  },
  {
   "cell_type": "code",
   "execution_count": 2,
   "id": "a91f8460",
   "metadata": {},
   "outputs": [
    {
     "name": "stderr",
     "output_type": "stream",
     "text": [
      "100%|██████████| 295296/295296 [14:32<00:00, 338.34it/s]\n"
     ]
    }
   ],
   "source": [
    "from pce import jaccard\n",
    "\n",
    "jc = jaccard(mat, cols=768)\n",
    "\n",
    "np.save(f\"C{len(mat)//1000}k\", jc)"
   ]
  }
 ],
 "metadata": {
  "kernelspec": {
   "display_name": "Python 3 (Spyder)",
   "language": "python3",
   "name": "python3"
  },
  "language_info": {
   "codemirror_mode": {
    "name": "ipython",
    "version": 3
   },
   "file_extension": ".py",
   "mimetype": "text/x-python",
   "name": "python",
   "nbconvert_exporter": "python",
   "pygments_lexer": "ipython3",
   "version": "3.11.9"
  }
 },
 "nbformat": 4,
 "nbformat_minor": 5
}
