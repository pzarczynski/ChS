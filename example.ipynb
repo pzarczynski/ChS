{
 "cells": [
  {
   "cell_type": "code",
   "execution_count": null,
   "id": "2fe773a4-447e-401f-999a-a07909ed7e71",
   "metadata": {
    "scrolled": true
   },
   "outputs": [],
   "source": [
    "import numpy as np\n",
    "rng = np.random.default_rng(42)\n",
    "\n",
    "%load_ext pyinstrument"
   ]
  },
  {
   "cell_type": "code",
   "execution_count": null,
   "id": "8f05332c-e33e-46bf-8164-910cec3e5b8e",
   "metadata": {},
   "outputs": [],
   "source": [
    "from pce import phicoef, randb_csc\n",
    "import matplotlib.pyplot as plt\n",
    "\n",
    "arr = randb_csc(0.001, rng, 10000, 10000)\n",
    "c = phicoef(arr, status = True)"
   ]
  },
  {
   "cell_type": "code",
   "execution_count": null,
   "id": "47aa8b18-9aa9-4072-9089-af49b3179ecc",
   "metadata": {},
   "outputs": [],
   "source": [
    "from pce import eigvec\n",
    "P = eigvec(c, k = 64)\n",
    "A = c @ P\n",
    "plt.imshow(A)"
   ]
  },
  {
   "cell_type": "code",
   "execution_count": null,
   "id": "6385d6b2-cfaf-4ac8-b10b-c2027fd9751d",
   "metadata": {},
   "outputs": [],
   "source": []
  }
 ],
 "metadata": {
  "kernelspec": {
   "display_name": "Python 3 (Spyder)",
   "language": "python3",
   "name": "python3"
  },
  "language_info": {
   "codemirror_mode": {
    "name": "ipython",
    "version": 3
   },
   "file_extension": ".py",
   "mimetype": "text/x-python",
   "name": "python",
   "nbconvert_exporter": "python",
   "pygments_lexer": "ipython3",
   "version": "3.11.9"
  }
 },
 "nbformat": 4,
 "nbformat_minor": 5
}
